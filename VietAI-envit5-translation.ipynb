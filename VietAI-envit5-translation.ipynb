{
 "cells": [
  {
   "cell_type": "code",
   "execution_count": 1,
   "metadata": {},
   "outputs": [],
   "source": [
    "from transformers import AutoTokenizer, AutoModelForSeq2SeqLM\n",
    "import csv"
   ]
  },
  {
   "cell_type": "code",
   "execution_count": 2,
   "metadata": {},
   "outputs": [
    {
     "name": "stdout",
     "output_type": "stream",
     "text": [
      "['vi: Trong khi rất nhiều cung điện đã bị phá huỷ ở thành cổ trong chiến tranh Việt Nam, nó vẫn rất thú vị và rất nhiều thứ để xem, khu vực này không phải là lớn để đi bộ xung quanh, nhưng có thể nếu bạn bắt đầu sớm.không sử dụng những chiếc taxi đạp xe, nó bắt đầu với 100.000 đồng và kết thúc với một triệu đồng. tôi không ngu ngốc với tiền, nhưng tôi đã bị bắt bởi chúng, bị bắt trên chuyến đi thông cảm.']\n"
     ]
    }
   ],
   "source": [
    "model_name = \"VietAI/envit5-translation\"\n",
    "tokenizer = AutoTokenizer.from_pretrained(model_name)  \n",
    "model = AutoModelForSeq2SeqLM.from_pretrained(model_name)\n",
    "model = model.to('cuda')\n",
    "\n",
    "inputs = [\n",
    "    \"en: Whilst a lot of palaces were destroyed in the citadel in the Vietnam war its still very pleasurable and a lot to see the area is far to big to walk around, but possible if you start out early .Dont use those pedal bike taxis, its starts at 100,000 dong and ends up at a million .im not stupid with money , but i did get caught out by them, getting caught on the sympathy trip.tip.You can get some electric courtesy buses at the main entrance so ask about them i think but i saw them later on and there arnt too many about from what i saw .However enough belly acheing this site is well worth the trip one of the highlights of my trip to vietnam not so touristy, as Hoyan and after the city very quiet and peaceful.\",\n",
    "    ]\n",
    "outputs = model.generate(tokenizer(inputs, return_tensors=\"pt\", padding=True).input_ids.to('cuda'), max_length=110)\n",
    "print(tokenizer.batch_decode(outputs, skip_special_tokens=True))"
   ]
  },
  {
   "cell_type": "code",
   "execution_count": 3,
   "metadata": {},
   "outputs": [],
   "source": [
    "with open('reviews-after-VietAI-envit5-translation.csv', 'w', newline='') as csvfile2:\n",
    "    fieldnames = ['en_text', 'positive_score', 'negative_score', 'neutral_score', 'vn_text']\n",
    "    writer = csv.DictWriter(csvfile2, fieldnames=fieldnames)\n",
    "    writer.writeheader()\n",
    "\n",
    "    with open(\"data/reviews-after-cardiffnlp-twitter-roberta-base-sentiment-latest.csv\", 'r') as csvfile1:\n",
    "        csv_reader = csv.reader(csvfile1)\n",
    "        next(csv_reader, None)\n",
    "        for row in csv_reader:\n",
    "            en_text = 'en: ' + row[0]\n",
    "            positive_score = row[1]\n",
    "            negative_score = row[2]\n",
    "            neutral_score = row[3]\n",
    "      \n",
    "            inputs = [en_text]\n",
    "            outputs = model.generate(tokenizer(inputs, return_tensors=\"pt\", padding=True).input_ids.to('cuda'), max_length=110)\n",
    "            vn_text = tokenizer.batch_decode(outputs, skip_special_tokens=True)[0]\n",
    "\n",
    "            writer.writerow({\n",
    "                'en_text': en_text,\n",
    "                'positive_score': positive_score,\n",
    "                'negative_score': negative_score,\n",
    "                'neutral_score': neutral_score,\n",
    "                'vn_text' : vn_text,\n",
    "                })"
   ]
  }
 ],
 "metadata": {
  "kernelspec": {
   "display_name": "Python 3",
   "language": "python",
   "name": "python3"
  },
  "language_info": {
   "codemirror_mode": {
    "name": "ipython",
    "version": 3
   },
   "file_extension": ".py",
   "mimetype": "text/x-python",
   "name": "python",
   "nbconvert_exporter": "python",
   "pygments_lexer": "ipython3",
   "version": "3.10.14"
  }
 },
 "nbformat": 4,
 "nbformat_minor": 2
}
