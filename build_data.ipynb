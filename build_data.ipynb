{
 "cells": [
  {
   "cell_type": "code",
   "execution_count": null,
   "metadata": {},
   "outputs": [],
   "source": [
    "import torch\n",
    "from transformers import pipeline\n",
    "import nltk\n",
    "\n",
    "from transformers import AutoModelForSequenceClassification\n",
    "from transformers import TFAutoModelForSequenceClassification\n",
    "from transformers import AutoTokenizer, AutoConfig\n",
    "import numpy as np\n",
    "from scipy.special import softmax\n",
    "\n",
    "import csv"
   ]
  },
  {
   "cell_type": "code",
   "execution_count": null,
   "metadata": {},
   "outputs": [],
   "source": [
    "# model_path = 'cardiffnlp/twitter-roberta-base-sentiment-latest'\n",
    "# sentiment_analysis_pipe = pipeline(\n",
    "#     \"sentiment-analysis\", \n",
    "#     model=model_path, \n",
    "#     tokenizer=model_path, \n",
    "#     device=0 if torch.cuda.is_available() else -1)"
   ]
  },
  {
   "cell_type": "code",
   "execution_count": null,
   "metadata": {},
   "outputs": [],
   "source": [
    "filename = \"data/reviews.csv\"\n",
    "first_column = []\n",
    "with open(filename, 'r') as csvfile:\n",
    "  csv_reader = csv.reader(csvfile)\n",
    "  next(csv_reader, None)\n",
    "  for row in csv_reader:\n",
    "    first_column.append(row[0])"
   ]
  },
  {
   "cell_type": "code",
   "execution_count": null,
   "metadata": {},
   "outputs": [],
   "source": [
    "first_column[:1]"
   ]
  },
  {
   "cell_type": "code",
   "execution_count": null,
   "metadata": {},
   "outputs": [],
   "source": [
    "nltk.download('punkt')  # Download sentence tokenizer if not already installed\n",
    "\n",
    "def paragraphs_to_sentences(paragraphs):\n",
    "  sentences = []\n",
    "  for paragraph in paragraphs:\n",
    "    sentences.extend(nltk.sent_tokenize(paragraph))\n",
    "  return sentences\n",
    "\n",
    "sentences = paragraphs_to_sentences(first_column)"
   ]
  },
  {
   "cell_type": "code",
   "execution_count": null,
   "metadata": {},
   "outputs": [],
   "source": [
    "print(len(sentences))\n",
    "sentences[0]"
   ]
  },
  {
   "cell_type": "code",
   "execution_count": null,
   "metadata": {},
   "outputs": [],
   "source": [
    "texts = sentences\n",
    "\n",
    "MODEL = f\"cardiffnlp/twitter-roberta-base-sentiment-latest\"\n",
    "tokenizer = AutoTokenizer.from_pretrained(MODEL)\n",
    "config = AutoConfig.from_pretrained(MODEL)\n",
    "# PT\n",
    "model = AutoModelForSequenceClassification.from_pretrained(MODEL)\n",
    "with open('output.csv', 'w', newline='') as csvfile:\n",
    "   fieldnames = ['text', 'positive_score', 'negative_score', 'neutral_score']\n",
    "   writer = csv.DictWriter(csvfile, fieldnames=fieldnames)\n",
    "   writer.writeheader()\n",
    "\n",
    "   for text in texts:\n",
    "       encoded_input = tokenizer(text, return_tensors='pt')\n",
    "       output = model(**encoded_input)\n",
    "       scores = output[0][0].detach().numpy()\n",
    "       scores = softmax(scores)\n",
    "\n",
    "       positive_score = scores[config.label2id['positive']]\n",
    "       negative_score = scores[config.label2id['negative']]\n",
    "       neutral_score = scores[config.label2id['neutral']]\n",
    "\n",
    "       writer.writerow({\n",
    "           'text': text,\n",
    "           'positive_score': positive_score,\n",
    "           'negative_score': negative_score,\n",
    "           'neutral_score': neutral_score\n",
    "       })"
   ]
  }
 ],
 "metadata": {
  "kernelspec": {
   "display_name": "Python 3",
   "language": "python",
   "name": "python3"
  },
  "language_info": {
   "codemirror_mode": {
    "name": "ipython",
    "version": 3
   },
   "file_extension": ".py",
   "mimetype": "text/x-python",
   "name": "python",
   "nbconvert_exporter": "python",
   "pygments_lexer": "ipython3",
   "version": "3.10.14"
  }
 },
 "nbformat": 4,
 "nbformat_minor": 2
}
